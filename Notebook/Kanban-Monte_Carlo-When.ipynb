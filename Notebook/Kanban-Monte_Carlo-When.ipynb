{
 "cells": [
  {
   "cell_type": "code",
   "execution_count": null,
   "metadata": {
    "ExecuteTime": {
     "end_time": "2019-03-19T11:58:58.571844Z",
     "start_time": "2019-03-19T11:58:58.553196Z"
    },
    "slideshow": {
     "slide_type": "skip"
    }
   },
   "outputs": [],
   "source": [
    "import pandas as pd\n",
    "from matplotlib import pyplot as plt\n",
    "import matplotlib.ticker as ticker\n",
    "import seaborn as sns\n",
    "from pandas.plotting import register_matplotlib_converters\n",
    "register_matplotlib_converters()\n",
    "%matplotlib inline\n",
    "plt.style.use('fivethirtyeight')\n",
    "plt.rcParams['axes.labelsize'] = 14\n",
    "plt.rcParams['lines.linewidth'] = 1.5\n",
    "darkgrey = '#3A3A3A'\n",
    "lightgrey = '#414141'\n",
    "barblue = plt.rcParams['axes.prop_cycle'].by_key()['color'][0]\n",
    "plt.rcParams['text.color'] = darkgrey\n",
    "plt.rcParams['axes.labelcolor'] = darkgrey\n",
    "plt.rcParams['xtick.color'] = lightgrey\n",
    "plt.rcParams['ytick.color'] = lightgrey"
   ]
  },
  {
   "attachments": {},
   "cell_type": "markdown",
   "metadata": {
    "slideshow": {
     "slide_type": "slide"
    }
   },
   "source": [
    "# Forecasting Feasible Delivery Date with a Monte Carlo Simulation 'When'\n",
    "## Context\n",
    "In our epic planning we decided on 20 items that will deliver the promised value to the customer. Before we make a commitment for a delivery date, we have to forecast when and how likely we will finish this scope."
   ]
  },
  {
   "attachments": {},
   "cell_type": "markdown",
   "metadata": {
    "slideshow": {
     "slide_type": "slide"
    }
   },
   "source": [
    "## Idea\n",
    "\n",
    "To understand the current delivery capability, we tracked our throughput and cycle times of our items in the issue tracking tool [Jira](https://de.atlassian.com/software/jira). We can use this data to forecast future throughput. \n",
    "\n",
    "The measurement took place between 13th July 2018 and 30th January 2019. The results were exported into a CSV file using the [Jira-to-Analytics](https://github.com/ActionableAgile/jira-to-analytics) command line tool with the following configuration:\n",
    "```\n",
    "[...]\n",
    "Criteria:\n",
    "    Project: \n",
    "        - DATA\n",
    "    Issue types: \n",
    "        - Story\n",
    "        - Task\n",
    "        - Bug\n",
    "    Start Date: 2018-07-13\n",
    "    End Date: 2019-01-30\n",
    "\n",
    "Workflow:\n",
    "[...]\n",
    "\n",
    "```\n",
    "The CSV file contains all items that were created and moved through during the measurement. We just take the relevant data of completed items: completion date and type"
   ]
  },
  {
   "cell_type": "code",
   "execution_count": null,
   "metadata": {
    "ExecuteTime": {
     "end_time": "2019-03-19T11:59:00.961477Z",
     "start_time": "2019-03-19T11:59:00.877094Z"
    },
    "slideshow": {
     "slide_type": "subslide"
    }
   },
   "outputs": [],
   "source": [
    "kanban_data = pd.read_csv(\n",
    "    '/data/data.csv', usecols=['Done', 'Type'], parse_dates=['Done']).dropna()\n",
    "kanban_data.head(1)"
   ]
  },
  {
   "attachments": {},
   "cell_type": "markdown",
   "metadata": {
    "slideshow": {
     "slide_type": "slide"
    }
   },
   "source": [
    "## Analysis\n",
    "\n",
    "Based on the past throughput per day a forecast can be created with a Monte Carlo simulation. Throughput is the number of total items completed per day.\n",
    "\n",
    "### Calculate Throughput\n",
    "Therefore, we sum up the completed items per day and add the missing dates with zero throughput. We plot the data of the throughput per day to get a brief overview of the result."
   ]
  },
  {
   "cell_type": "code",
   "execution_count": null,
   "metadata": {
    "ExecuteTime": {
     "end_time": "2019-03-19T11:59:07.311950Z",
     "start_time": "2019-03-19T11:59:06.631758Z"
    },
    "slideshow": {
     "slide_type": "slide"
    }
   },
   "outputs": [],
   "source": [
    "throughput = pd.crosstab(\n",
    "    kanban_data.Done, kanban_data.Type, colnames=[None]).reset_index()\n",
    "throughput['Throughput'] = throughput.Bug + throughput.Story + throughput.Task\n",
    "date_range = pd.date_range(\n",
    "    start=throughput.Done.min(), end=throughput.Done.max())\n",
    "throughput = throughput.set_index('Done').reindex(\n",
    "    date_range).fillna(0).astype(int).rename_axis('Date')\n",
    "throughput_per_week = pd.DataFrame(\n",
    "    throughput['Throughput'].resample('W-Mon').sum()).reset_index()\n",
    "ax = throughput_per_week.plot(\n",
    "    x='Date', y='Throughput', linewidth=2.5, figsize=(14, 3), legend=None)\n",
    "ax.set_title(\"Throughput per Week\", loc='left', fontdict={\n",
    "             'fontsize': 18, 'fontweight': 'semibold'})\n",
    "ax.set_xlabel('')\n",
    "ax.set_ylabel('Items Completed')\n",
    "ax.axhline(y=0, color=lightgrey, alpha=.5);"
   ]
  },
  {
   "attachments": {},
   "cell_type": "markdown",
   "metadata": {
    "slideshow": {
     "slide_type": "slide"
    }
   },
   "source": [
    "### Run Monte Carlo Simulation 'When'\n",
    "Based on the throughput data we simulate multiple times when the number of items will be completed. Before we run the simulation we set the configuration values:\n",
    "* Date range of data basis (last days)\n",
    "* Number of items to simulate.\n",
    "* Start date of work\n",
    "* Number of simulations to run (Recommendation: >= 10000).\n",
    "\n",
    "We plot the simulation results to get a brief overview of distribution of completion dates."
   ]
  },
  {
   "cell_type": "code",
   "execution_count": null,
   "metadata": {
    "ExecuteTime": {
     "end_time": "2019-03-19T12:12:57.085565Z",
     "start_time": "2019-03-19T11:59:11.966809Z"
    },
    "scrolled": true,
    "slideshow": {
     "slide_type": "slide"
    }
   },
   "outputs": [],
   "source": [
    "### SETTINGS ####\n",
    "LAST_DAYS = 100\n",
    "SIMULATION_ITEMS = 40\n",
    "START_DATE = pd.to_datetime('2019-02-01')\n",
    "SIMULATIONS = 10000\n",
    "\n",
    "\n",
    "def simulate_days(data, scope):\n",
    "    days = 0\n",
    "    total = 0\n",
    "    while total <= scope:\n",
    "        total += dataset.sample(n=1).iloc[0].Throughput\n",
    "        days += 1\n",
    "    completion_date = START_DATE + pd.Timedelta(days, unit='d')\n",
    "    return completion_date\n",
    "\n",
    "\n",
    "dataset = throughput[['Throughput']].tail(LAST_DAYS).reset_index(drop=True)\n",
    "samples = [simulate_days(dataset, SIMULATION_ITEMS)\n",
    "           for i in range(SIMULATIONS)]\n",
    "samples = pd.DataFrame(samples, columns=['Date'])\n",
    "distribution = samples.groupby(['Date']).size().reset_index(name='Frequency')\n",
    "\n",
    "plt.figure(figsize=(15, 3))\n",
    "ax = sns.barplot(x='Date', y='Frequency', data=distribution, color=barblue)\n",
    "ax.set_title(f\"Distribution of Monte Carlo Simulation 'When' ({SIMULATIONS} Runs)\", loc='left',\n",
    "             fontdict={'size': 18, 'weight': 'semibold'})\n",
    "ax.set_xlabel(f\"Completion Date for {SIMULATION_ITEMS} Items\")\n",
    "ax.set_ylabel('Frequency')\n",
    "unique_dates = sorted(list(distribution['Date'].drop_duplicates()))\n",
    "date_ticks = range(0, len(unique_dates), 5)\n",
    "ax.set_xticks(date_ticks)\n",
    "ax.set_xticklabels([unique_dates[i].strftime('%d %b')\n",
    "                    for i in date_ticks], rotation=45)\n",
    "ax.axhline(y=SIMULATIONS*0.001, color=darkgrey, alpha=.5);"
   ]
  },
  {
   "attachments": {},
   "cell_type": "markdown",
   "metadata": {
    "slideshow": {
     "slide_type": "slide"
    }
   },
   "source": [
    "### Analysis of the Probabilities of Occurrence\n",
    "We determine the probability for each number of completed items by cumulating the frequency in the simulations. We plot the probability for each number of completed items and indicate the percentiles 70%, 85%, and 95%."
   ]
  },
  {
   "cell_type": "code",
   "execution_count": null,
   "metadata": {
    "ExecuteTime": {
     "end_time": "2019-03-19T12:21:06.435761Z",
     "start_time": "2019-03-19T12:21:04.845999Z"
    },
    "scrolled": true,
    "slideshow": {
     "slide_type": "slide"
    }
   },
   "outputs": [],
   "source": [
    "distribution = distribution.sort_index(ascending=False)\n",
    "distribution['Probability'] = 100 * \\\n",
    "    distribution.Frequency.cumsum()/distribution.Frequency.sum()\n",
    "plt.figure(figsize=(16, 5))\n",
    "ax = sns.barplot(x='Date', y='Probability', data=distribution[::-1], color=barblue)  # Reverse the distribution DataFrame\n",
    "ax.text(x=-1.4, y=118,\n",
    "        s=f\"Probabilities of Completion Dates for {SIMULATION_ITEMS} Items\", fontsize=18, fontweight='semibold')\n",
    "ax.text(x=-1.4, y=110,\n",
    "        s=f\"Based on a Monte Carlo Simulations ({SIMULATIONS} Runs) with data of last {LAST_DAYS} days\", fontsize=16)\n",
    "ax.set_ylabel('')\n",
    "ax.set_xlabel('')\n",
    "ax.axhline(y=0.5, color=darkgrey, alpha=.5)\n",
    "ax.axhline(y=70, color=darkgrey, linestyle='--')\n",
    "ax.axhline(y=85, color=darkgrey, linestyle='--')\n",
    "ax.axhline(y=95, color=darkgrey, linestyle='--')\n",
    "label_xpos = distribution['Date'].max() - pd.Timedelta(30, unit='d')\n",
    "ax.text(y=70, x=20, s=f\"70% ({samples.Date.quantile(0.3).strftime('%Y-%m-%d')})\",\n",
    "        va='center', ha='center', backgroundcolor='#F0F0F0')\n",
    "ax.text(y=85, x=20, s=f\"85% ({samples.Date.quantile(0.15).strftime('%Y-%m-%d')})\",\n",
    "        va='center', ha='center', backgroundcolor='#F0F0F0')\n",
    "ax.text(y=95, x=20, s=f\"95% ({samples.Date.quantile(0.05).strftime('%Y-%m-%d')})\",\n",
    "        va='center', ha='center', backgroundcolor='#F0F0F0')\n",
    "ax.set_yticks([0, 20, 40, 60, 80, 100])\n",
    "ax.set_yticklabels(labels=['0', '20', '40', '60', '80', '100%'])\n",
    "\n",
    "unique_dates = sorted(list(distribution['Date'].drop_duplicates()))[::-1]  # Reverse the unique_dates list\n",
    "date_ticks = range(len(unique_dates))\n",
    "ax.set_xticks(date_ticks)\n",
    "ax.set_xticklabels([unique_dates[i].strftime('%d %b')\n",
    "                    for i in reversed(date_ticks)], rotation=45);  # Reverse the order of tick labels"
   ]
  },
  {
   "attachments": {},
   "cell_type": "markdown",
   "metadata": {
    "slideshow": {
     "slide_type": "slide"
    }
   },
   "source": [
    "## Conclusion\n",
    "A delivery date before 17th April 2019 will be risky when we start on 1st February 2019. Therefore, a delivery date past this date should be chosen."
   ]
  }
 ],
 "metadata": {
  "celltoolbar": "Slideshow",
  "kernelspec": {
   "display_name": "Python 3",
   "language": "python",
   "name": "python3"
  },
  "language_info": {
   "codemirror_mode": {
    "name": "ipython",
    "version": 3
   },
   "file_extension": ".py",
   "mimetype": "text/x-python",
   "name": "python",
   "nbconvert_exporter": "python",
   "pygments_lexer": "ipython3",
   "version": "3.11.4"
  },
  "varInspector": {
   "cols": {
    "lenName": 16,
    "lenType": 16,
    "lenVar": 40
   },
   "kernels_config": {
    "python": {
     "delete_cmd_postfix": "",
     "delete_cmd_prefix": "del ",
     "library": "var_list.py",
     "varRefreshCmd": "print(var_dic_list())"
    },
    "r": {
     "delete_cmd_postfix": ") ",
     "delete_cmd_prefix": "rm(",
     "library": "var_list.r",
     "varRefreshCmd": "cat(var_dic_list()) "
    }
   },
   "types_to_exclude": [
    "module",
    "function",
    "builtin_function_or_method",
    "instance",
    "_Feature"
   ],
   "window_display": false
  }
 },
 "nbformat": 4,
 "nbformat_minor": 2
}
